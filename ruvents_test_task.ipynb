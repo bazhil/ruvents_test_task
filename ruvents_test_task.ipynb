{
 "cells": [
  {
   "cell_type": "code",
   "execution_count": 1,
   "id": "50986817",
   "metadata": {},
   "outputs": [
    {
     "data": {
      "text/html": [
       "<div>\n",
       "<style scoped>\n",
       "    .dataframe tbody tr th:only-of-type {\n",
       "        vertical-align: middle;\n",
       "    }\n",
       "\n",
       "    .dataframe tbody tr th {\n",
       "        vertical-align: top;\n",
       "    }\n",
       "\n",
       "    .dataframe thead th {\n",
       "        text-align: right;\n",
       "    }\n",
       "</style>\n",
       "<table border=\"1\" class=\"dataframe\">\n",
       "  <thead>\n",
       "    <tr style=\"text-align: right;\">\n",
       "      <th></th>\n",
       "      <th>num1</th>\n",
       "      <th>num2</th>\n",
       "      <th>num3</th>\n",
       "      <th>date1</th>\n",
       "      <th>date2</th>\n",
       "      <th>date3</th>\n",
       "    </tr>\n",
       "  </thead>\n",
       "  <tbody>\n",
       "    <tr>\n",
       "      <th>0</th>\n",
       "      <td>Сколько четных чисел в этом столбце?</td>\n",
       "      <td>Сколько простых чисел в этом столбце?</td>\n",
       "      <td>Сколько чисел, меньших 0.5 в этом столбце?</td>\n",
       "      <td>Столько вторников в этом столбце?</td>\n",
       "      <td>Сколько вторников в этом столбце?</td>\n",
       "      <td>Сколько последних вторников месяца в этом стол...</td>\n",
       "    </tr>\n",
       "    <tr>\n",
       "      <th>1</th>\n",
       "      <td>14</td>\n",
       "      <td>54</td>\n",
       "      <td>0 ,481208997226 7124</td>\n",
       "      <td>Mon Aug  6 07:11:19 2018</td>\n",
       "      <td>2026-07-19 08:15:41.695463</td>\n",
       "      <td>10-04-2011</td>\n",
       "    </tr>\n",
       "    <tr>\n",
       "      <th>2</th>\n",
       "      <td>12</td>\n",
       "      <td>55</td>\n",
       "      <td>0 .9092218987487982</td>\n",
       "      <td>Thu Dec  1 01:32:03 2016</td>\n",
       "      <td>2006-08-06 16:18:39.172100</td>\n",
       "      <td>08-28-2006</td>\n",
       "    </tr>\n",
       "    <tr>\n",
       "      <th>3</th>\n",
       "      <td>25</td>\n",
       "      <td>2</td>\n",
       "      <td>0.  3268611158564687</td>\n",
       "      <td>Wed Aug  2 22:37:44 2028</td>\n",
       "      <td>2020-11-08 10:08:31.158667</td>\n",
       "      <td>11-21-2019</td>\n",
       "    </tr>\n",
       "    <tr>\n",
       "      <th>4</th>\n",
       "      <td>53</td>\n",
       "      <td>3</td>\n",
       "      <td>0. 38081302402434 647</td>\n",
       "      <td>Thu Feb 19 06:32:31 2009</td>\n",
       "      <td>2015-01-13 21:46:36.390139</td>\n",
       "      <td>06-26-2010</td>\n",
       "    </tr>\n",
       "  </tbody>\n",
       "</table>\n",
       "</div>"
      ],
      "text/plain": [
       "                                   num1  \\\n",
       "0  Сколько четных чисел в этом столбце?   \n",
       "1                                    14   \n",
       "2                                    12   \n",
       "3                                    25   \n",
       "4                                    53   \n",
       "\n",
       "                                    num2  \\\n",
       "0  Сколько простых чисел в этом столбце?   \n",
       "1                                     54   \n",
       "2                                     55   \n",
       "3                                      2   \n",
       "4                                      3   \n",
       "\n",
       "                                         num3  \\\n",
       "0  Сколько чисел, меньших 0.5 в этом столбце?   \n",
       "1                        0 ,481208997226 7124   \n",
       "2                         0 .9092218987487982   \n",
       "3                        0.  3268611158564687   \n",
       "4                       0. 38081302402434 647   \n",
       "\n",
       "                               date1                              date2  \\\n",
       "0  Столько вторников в этом столбце?  Сколько вторников в этом столбце?   \n",
       "1           Mon Aug  6 07:11:19 2018         2026-07-19 08:15:41.695463   \n",
       "2           Thu Dec  1 01:32:03 2016         2006-08-06 16:18:39.172100   \n",
       "3           Wed Aug  2 22:37:44 2028         2020-11-08 10:08:31.158667   \n",
       "4           Thu Feb 19 06:32:31 2009         2015-01-13 21:46:36.390139   \n",
       "\n",
       "                                               date3  \n",
       "0  Сколько последних вторников месяца в этом стол...  \n",
       "1                                         10-04-2011  \n",
       "2                                         08-28-2006  \n",
       "3                                         11-21-2019  \n",
       "4                                         06-26-2010  "
      ]
     },
     "execution_count": 1,
     "metadata": {},
     "output_type": "execute_result"
    }
   ],
   "source": [
    "import pandas as pd\n",
    "from sympy import isprime\n",
    "\n",
    "df = pd.read_excel('task.xlsx', sheet_name='Tasks')\n",
    "df = df[['num1', 'num2', 'num3', 'date1', 'date2', 'date3']]\n",
    "df.head(5)"
   ]
  },
  {
   "cell_type": "code",
   "execution_count": 2,
   "id": "73f556dc",
   "metadata": {},
   "outputs": [
    {
     "data": {
      "text/plain": [
       "507"
      ]
     },
     "execution_count": 2,
     "metadata": {},
     "output_type": "execute_result"
    }
   ],
   "source": [
    "# Сколько четных чисел в num1?\n",
    "num1_df = df[df['num1'].apply(pd.to_numeric, errors='coerce') % 2 == 0]\n",
    "num1_df.shape[0]"
   ]
  },
  {
   "cell_type": "code",
   "execution_count": 3,
   "id": "205aeba0",
   "metadata": {},
   "outputs": [
    {
     "data": {
      "text/plain": [
       "168"
      ]
     },
     "execution_count": 3,
     "metadata": {},
     "output_type": "execute_result"
    }
   ],
   "source": [
    "# Сколько простых чисел в num2?\n",
    "num2_df = df[df['num2'].apply(isprime) == True]\n",
    "num2_df.shape[0]"
   ]
  },
  {
   "cell_type": "code",
   "execution_count": 4,
   "id": "5e3a7df8",
   "metadata": {},
   "outputs": [
    {
     "data": {
      "text/plain": [
       "361"
      ]
     },
     "execution_count": 4,
     "metadata": {},
     "output_type": "execute_result"
    }
   ],
   "source": [
    "# Сколько чисел меньших 0.5 в num3?\n",
    "num3_df = df['num3']\n",
    "# очищаю значения от пробелов и заменяем запятые на точки\n",
    "num3_df = num3_df.str.replace(' ', '').replace(',', '.')\n",
    "# преобразую строки в числа, оставляю только те значения, которые меньше 0.5\n",
    "num3_df = num3_df[num3_df.apply(pd.to_numeric, errors='coerce') < 0.5]\n",
    "num3_df.shape[0]"
   ]
  },
  {
   "cell_type": "code",
   "execution_count": 5,
   "id": "ae541f14",
   "metadata": {},
   "outputs": [
    {
     "data": {
      "text/plain": [
       "156"
      ]
     },
     "execution_count": 5,
     "metadata": {},
     "output_type": "execute_result"
    }
   ],
   "source": [
    "# Сколько вторников в date1?\n",
    "date1_df = df[df['date1'].str.contains('Tue')]\n",
    "date1_df.shape[0]"
   ]
  },
  {
   "cell_type": "code",
   "execution_count": 6,
   "id": "9f6fdf6e",
   "metadata": {},
   "outputs": [
    {
     "data": {
      "text/html": [
       "<div>\n",
       "<style scoped>\n",
       "    .dataframe tbody tr th:only-of-type {\n",
       "        vertical-align: middle;\n",
       "    }\n",
       "\n",
       "    .dataframe tbody tr th {\n",
       "        vertical-align: top;\n",
       "    }\n",
       "\n",
       "    .dataframe thead th {\n",
       "        text-align: right;\n",
       "    }\n",
       "</style>\n",
       "<table border=\"1\" class=\"dataframe\">\n",
       "  <thead>\n",
       "    <tr style=\"text-align: right;\">\n",
       "      <th></th>\n",
       "      <th>num1</th>\n",
       "      <th>num2</th>\n",
       "      <th>num3</th>\n",
       "      <th>date1</th>\n",
       "      <th>date2</th>\n",
       "      <th>date3</th>\n",
       "    </tr>\n",
       "  </thead>\n",
       "  <tbody>\n",
       "  </tbody>\n",
       "</table>\n",
       "</div>"
      ],
      "text/plain": [
       "Empty DataFrame\n",
       "Columns: [num1, num2, num3, date1, date2, date3]\n",
       "Index: []"
      ]
     },
     "execution_count": 6,
     "metadata": {},
     "output_type": "execute_result"
    }
   ],
   "source": [
    "# Проверяю, что в date1 нет вторников, записанных с маленькой буквы\n",
    "control_date1_df = df[df['date1'].str.contains('tue')]\n",
    "control_date1_df"
   ]
  },
  {
   "cell_type": "code",
   "execution_count": 13,
   "id": "0ccbe6b0",
   "metadata": {},
   "outputs": [
    {
     "data": {
      "text/plain": [
       "138"
      ]
     },
     "execution_count": 13,
     "metadata": {},
     "output_type": "execute_result"
    }
   ],
   "source": [
    "# Сколько вторников в date2?\n",
    "date2_df = pd.to_datetime(df['date2'][1:])\n",
    "date2_df = date2_df[date2_df.dt.dayofweek == 1]\n",
    "date2_df.shape[0]"
   ]
  },
  {
   "cell_type": "code",
   "execution_count": 14,
   "id": "210d0e71",
   "metadata": {},
   "outputs": [
    {
     "data": {
      "text/plain": [
       "39"
      ]
     },
     "execution_count": 14,
     "metadata": {},
     "output_type": "execute_result"
    }
   ],
   "source": [
    "# Сколько последних вторников месяца в date3?\n",
    "date3_df = pd.to_datetime(df['date3'][1:])\n",
    "\n",
    "# новый датафрейм для работы с вычисляемыми значениями\n",
    "answer_df = pd.DataFrame()\n",
    "\n",
    "# перекладываю даты из предыдущего датафрейма\n",
    "answer_df['date'] = date3_df\n",
    "\n",
    "# получаю столбец с последним днем текущего месяца\n",
    "answer_df['mEnd'] = date3_df + pd.tseries.offsets.MonthEnd(1)\n",
    "\n",
    "# получаю дату последнего вторника и оставляю только те строки, где текущая дата = дате последнего вторника\n",
    "offset = (answer_df['mEnd'].dt.weekday - 1) % 7\n",
    "answer_df['last_Tues'] = answer_df['mEnd'] - pd.to_timedelta(offset, unit='D')\n",
    "answer_df = answer_df[answer_df['date'] == answer_df['last_Tues']]\n",
    "answer_df.shape[0]"
   ]
  },
  {
   "cell_type": "code",
   "execution_count": 15,
   "id": "8c950102",
   "metadata": {},
   "outputs": [],
   "source": [
    "# Идеи для улучшения:\n",
    "#     - написать класс на питоне, который будет принимать на вход .xlxs, а отдавать JSON с ответом. Класс содержит\n",
    "#     методы определяющие ответ на каждый из поставленных вопросов и метод возвращающий ответ. Это позволит обрабатывать\n",
    "#     большее количество подобных файлов, при необходимости.\n",
    "#     - сделать простой веб сервер на Flask, который принимает .xlxs, а ответ отрисовывает в таблице\n",
    "#     на отдельной странице\n",
    "#     - упаковать решение в контейнер Docker"
   ]
  },
  {
   "cell_type": "code",
   "execution_count": null,
   "id": "fb077729",
   "metadata": {},
   "outputs": [],
   "source": []
  }
 ],
 "metadata": {
  "kernelspec": {
   "display_name": "Python 3 (ipykernel)",
   "language": "python",
   "name": "python3"
  },
  "language_info": {
   "codemirror_mode": {
    "name": "ipython",
    "version": 3
   },
   "file_extension": ".py",
   "mimetype": "text/x-python",
   "name": "python",
   "nbconvert_exporter": "python",
   "pygments_lexer": "ipython3",
   "version": "3.9.12"
  }
 },
 "nbformat": 4,
 "nbformat_minor": 5
}
